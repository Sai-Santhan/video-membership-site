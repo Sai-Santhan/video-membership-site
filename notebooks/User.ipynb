{
 "cells": [
  {
   "cell_type": "code",
   "execution_count": 1,
   "metadata": {},
   "outputs": [
    {
     "name": "stdout",
     "output_type": "stream",
     "text": [
      "/Users/sai/projects/video-membership-site/app\n"
     ]
    }
   ],
   "source": [
    "%cd ~/projects/video-membership-site/app"
   ]
  },
  {
   "cell_type": "code",
   "execution_count": 2,
   "metadata": {},
   "outputs": [],
   "source": [
    "from app.core import db\n",
    "from app.users.models import User\n",
    "from cassandra.cqlengine.management import sync_table"
   ]
  },
  {
   "cell_type": "code",
   "execution_count": 3,
   "metadata": {},
   "outputs": [],
   "source": [
    "db.get_session()\n",
    "sync_table(User)"
   ]
  },
  {
   "cell_type": "code",
   "execution_count": 4,
   "metadata": {},
   "outputs": [],
   "source": [
    "user_new = User.create_user(\"qwerty123@tree.com\", password='abcde12345')"
   ]
  },
  {
   "cell_type": "code",
   "execution_count": 5,
   "metadata": {},
   "outputs": [
    {
     "data": {
      "text/plain": [
       "'$argon2id$v=19$m=65536,t=3,p=4$DkLssnRumEkmdf1B6wvr1Q$xG5TmFw1YGE5kemc07l/mGDKpG1DJmEBV8uquSV/+r0'"
      ]
     },
     "execution_count": 5,
     "metadata": {},
     "output_type": "execute_result"
    }
   ],
   "source": [
    "user_new.password"
   ]
  },
  {
   "cell_type": "code",
   "execution_count": 6,
   "metadata": {},
   "outputs": [],
   "source": [
    "q = User.objects.all()"
   ]
  },
  {
   "cell_type": "code",
   "execution_count": 7,
   "metadata": {},
   "outputs": [
    {
     "data": {
      "text/plain": [
       "[User(email=akash@treehouse.com, user_id=b5908382-1979-11ed-90c4-ee47bd8fca6d),\n",
       " User(email=bye@teamcfe.com, user_id=a94daac6-17cd-11ed-a89f-ee47bd8fca6d),\n",
       " User(email=qwerty123@tree.com, user_id=311f804c-2e7f-11ed-964e-ee47bd8fca6d),\n",
       " User(email=hello@teamcfe.com, user_id=8cd81274-179f-11ed-8785-ee47bd8fca6d),\n",
       " User(email=abc123@tree.com, user_id=7f7ce134-2c1e-11ed-a754-ee47bd8fca6d),\n",
       " User(email=abc@tree.com, user_id=3f7a3062-2ba8-11ed-aeb2-ee47bd8fca6d),\n",
       " User(email=akshay@treehouse.com, user_id=10efc950-1979-11ed-90c4-ee47bd8fca6d),\n",
       " User(email=nahtnas@gmail.com, user_id=bf4e90bc-27a7-11ed-8f36-ee47bd8fca6d),\n",
       " User(email=nahtnasias@gmail.com, user_id=224f9a58-27a8-11ed-8241-ee47bd8fca6d)]"
      ]
     },
     "execution_count": 7,
     "metadata": {},
     "output_type": "execute_result"
    }
   ],
   "source": [
    "list(q)"
   ]
  },
  {
   "cell_type": "code",
   "execution_count": 12,
   "metadata": {},
   "outputs": [
    {
     "name": "stdout",
     "output_type": "stream",
     "text": [
      "akash@treehouse.com --- hustlegrind\n",
      "bye@teamcfe.com --- abc1234\n",
      "qwerty123@tree.com --- $argon2id$v=19$m=65536,t=3,p=4$DkLssnRumEkmdf1B6wvr1Q$xG5TmFw1YGE5kemc07l/mGDKpG1DJmEBV8uquSV/+r0\n",
      "hello@teamcfe.com --- abc123\n",
      "abc123@tree.com --- $argon2id$v=19$m=65536,t=3,p=4$yC1+bbLkuEtlINazEfejyg$ZwFqpSqpKGnCIR5wbASP85/AXSeDdeGE3OtuDmt8vqk\n",
      "abc@tree.com --- abcd1234\n",
      "akshay@treehouse.com --- new1234\n",
      "nahtnas@gmail.com --- abc123\n",
      "nahtnasias@gmail.com --- abc123\n"
     ]
    }
   ],
   "source": [
    "for x in q:\n",
    "    print(f\"{x.email} --- {x.password}\")"
   ]
  }
 ],
 "metadata": {
  "kernelspec": {
   "display_name": "Python 3.9.13 ('.venv': poetry)",
   "language": "python",
   "name": "python3"
  },
  "language_info": {
   "codemirror_mode": {
    "name": "ipython",
    "version": 3
   },
   "file_extension": ".py",
   "mimetype": "text/x-python",
   "name": "python",
   "nbconvert_exporter": "python",
   "pygments_lexer": "ipython3",
   "version": "3.9.13"
  },
  "orig_nbformat": 4,
  "vscode": {
   "interpreter": {
    "hash": "9c5a96d672ad3252adf6d9ac78ca26070fd640f3e3f8c1211b7c5ce0d258e142"
   }
  }
 },
 "nbformat": 4,
 "nbformat_minor": 2
}
